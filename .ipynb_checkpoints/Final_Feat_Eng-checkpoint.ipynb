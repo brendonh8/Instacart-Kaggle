{
 "cells": [
  {
   "cell_type": "code",
   "execution_count": 1,
   "metadata": {},
   "outputs": [],
   "source": [
    "from sklearn.linear_model import LogisticRegression\n",
    "from sklearn.model_selection import train_test_split\n",
    "from sklearn.metrics import f1_score\n",
    "from sqlalchemy import create_engine\n",
    "import sqlalchemy as db\n",
    "import numpy as np\n",
    "import pandas as pd\n",
    "import seaborn as sns\n",
    "import matplotlib.style as style \n",
    "import matplotlib.pyplot as plt\n",
    "from joblib import Parallel, delayed\n",
    "import multiprocessing\n",
    "import pickle\n",
    "\n",
    "style.use('fivethirtyeight')\n",
    "#%matplotlib inline"
   ]
  },
  {
   "cell_type": "markdown",
   "metadata": {},
   "source": [
    "## Feature Engineering\n",
    "---"
   ]
  },
  {
   "cell_type": "markdown",
   "metadata": {},
   "source": [
    "**Target is to predict whether or not a user will order a product in their most recent order based on past orders. This requires grouping the cart for the most recent order and determining if a specific product is in the cart of that users most recent order.**"
   ]
  },
  {
   "cell_type": "code",
   "execution_count": 8,
   "metadata": {},
   "outputs": [],
   "source": [
    "df_orders = pd.read_csv('orders.csv')\n",
    "df_order_products_prior = pd.read_csv('order_products__prior.csv')\n",
    "df_order_products_train = pd.read_csv('order_products__train.csv')\n",
    "df_products = pd.read_csv('products.csv')\n",
    "df_aisles = pd.read_csv('aisles.csv')\n",
    "df_departments = pd.read_csv('departments.csv')"
   ]
  },
  {
   "cell_type": "markdown",
   "metadata": {},
   "source": [
    "**Merge user order tables with order info tables**"
   ]
  },
  {
   "cell_type": "code",
   "execution_count": 9,
   "metadata": {},
   "outputs": [],
   "source": [
    "df_order_products_train = df_order_products_train.merge(df_orders.drop('eval_set', axis=1), on='order_id')\n",
    "df_order_products_prior = df_order_products_prior.merge(df_orders.drop('eval_set', axis=1), on='order_id')\n"
   ]
  },
  {
   "cell_type": "markdown",
   "metadata": {},
   "source": [
    "**Count how many times a user ordered a product**"
   ]
  },
  {
   "cell_type": "code",
   "execution_count": 10,
   "metadata": {},
   "outputs": [],
   "source": [
    "def count_product_orders(x):\n",
    "    orders = {'user_product_total_orders': x['order_id'].count()}\n",
    "    return pd.Series(orders)\n",
    "\n",
    "df_user_product = (df_order_products_prior.groupby(['product_id', 'user_id']).apply(count_product_orders)\n",
    "                                                                            .reset_index())"
   ]
  },
  {
   "cell_type": "code",
   "execution_count": 11,
   "metadata": {},
   "outputs": [
    {
     "data": {
      "text/html": [
       "<div>\n",
       "<style scoped>\n",
       "    .dataframe tbody tr th:only-of-type {\n",
       "        vertical-align: middle;\n",
       "    }\n",
       "\n",
       "    .dataframe tbody tr th {\n",
       "        vertical-align: top;\n",
       "    }\n",
       "\n",
       "    .dataframe thead th {\n",
       "        text-align: right;\n",
       "    }\n",
       "</style>\n",
       "<table border=\"1\" class=\"dataframe\">\n",
       "  <thead>\n",
       "    <tr style=\"text-align: right;\">\n",
       "      <th></th>\n",
       "      <th>product_id</th>\n",
       "      <th>user_id</th>\n",
       "      <th>user_product_total_orders</th>\n",
       "    </tr>\n",
       "  </thead>\n",
       "  <tbody>\n",
       "    <tr>\n",
       "      <th>0</th>\n",
       "      <td>1</td>\n",
       "      <td>21285</td>\n",
       "      <td>1</td>\n",
       "    </tr>\n",
       "    <tr>\n",
       "      <th>1</th>\n",
       "      <td>1</td>\n",
       "      <td>47549</td>\n",
       "      <td>4</td>\n",
       "    </tr>\n",
       "    <tr>\n",
       "      <th>2</th>\n",
       "      <td>1</td>\n",
       "      <td>54136</td>\n",
       "      <td>1</td>\n",
       "    </tr>\n",
       "    <tr>\n",
       "      <th>3</th>\n",
       "      <td>1</td>\n",
       "      <td>54240</td>\n",
       "      <td>1</td>\n",
       "    </tr>\n",
       "    <tr>\n",
       "      <th>4</th>\n",
       "      <td>1</td>\n",
       "      <td>95730</td>\n",
       "      <td>1</td>\n",
       "    </tr>\n",
       "  </tbody>\n",
       "</table>\n",
       "</div>"
      ],
      "text/plain": [
       "   product_id  user_id  user_product_total_orders\n",
       "0           1    21285                          1\n",
       "1           1    47549                          4\n",
       "2           1    54136                          1\n",
       "3           1    54240                          1\n",
       "4           1    95730                          1"
      ]
     },
     "execution_count": 11,
     "metadata": {},
     "output_type": "execute_result"
    }
   ],
   "source": [
    "df_user_product.head()"
   ]
  },
  {
   "cell_type": "code",
   "execution_count": 12,
   "metadata": {},
   "outputs": [
    {
     "data": {
      "text/html": [
       "<div>\n",
       "<style scoped>\n",
       "    .dataframe tbody tr th:only-of-type {\n",
       "        vertical-align: middle;\n",
       "    }\n",
       "\n",
       "    .dataframe tbody tr th {\n",
       "        vertical-align: top;\n",
       "    }\n",
       "\n",
       "    .dataframe thead th {\n",
       "        text-align: right;\n",
       "    }\n",
       "</style>\n",
       "<table border=\"1\" class=\"dataframe\">\n",
       "  <thead>\n",
       "    <tr style=\"text-align: right;\">\n",
       "      <th></th>\n",
       "      <th>product_id</th>\n",
       "      <th>user_id</th>\n",
       "      <th>user_product_total_orders</th>\n",
       "    </tr>\n",
       "  </thead>\n",
       "  <tbody>\n",
       "    <tr>\n",
       "      <th>0</th>\n",
       "      <td>1</td>\n",
       "      <td>21285</td>\n",
       "      <td>1</td>\n",
       "    </tr>\n",
       "    <tr>\n",
       "      <th>1</th>\n",
       "      <td>1</td>\n",
       "      <td>47549</td>\n",
       "      <td>4</td>\n",
       "    </tr>\n",
       "    <tr>\n",
       "      <th>2</th>\n",
       "      <td>1</td>\n",
       "      <td>54136</td>\n",
       "      <td>1</td>\n",
       "    </tr>\n",
       "    <tr>\n",
       "      <th>3</th>\n",
       "      <td>1</td>\n",
       "      <td>54240</td>\n",
       "      <td>1</td>\n",
       "    </tr>\n",
       "    <tr>\n",
       "      <th>4</th>\n",
       "      <td>1</td>\n",
       "      <td>95730</td>\n",
       "      <td>1</td>\n",
       "    </tr>\n",
       "  </tbody>\n",
       "</table>\n",
       "</div>"
      ],
      "text/plain": [
       "   product_id  user_id  user_product_total_orders\n",
       "0           1    21285                          1\n",
       "1           1    47549                          4\n",
       "2           1    54136                          1\n",
       "3           1    54240                          1\n",
       "4           1    95730                          1"
      ]
     },
     "execution_count": 12,
     "metadata": {},
     "output_type": "execute_result"
    }
   ],
   "source": [
    "train_ids = df_order_products_train['user_id'].unique() \n",
    "df_X = df_user_product[df_user_product['user_id'].isin(train_ids)]\n",
    "df_X.head()\n"
   ]
  },
  {
   "cell_type": "markdown",
   "metadata": {},
   "source": [
    "**Find the most recent products in the latest order from the train table and merge with feature dataframe**"
   ]
  },
  {
   "cell_type": "code",
   "execution_count": 13,
   "metadata": {},
   "outputs": [],
   "source": [
    "def get_latest_cart(x):\n",
    "    cart = {'latest_cart': set(product for product in x['product_id'])}\n",
    "    return pd.Series(cart)\n",
    "\n",
    "train_carts = (df_order_products_train.groupby('user_id').apply(get_latest_cart)\n",
    "                                                        .reset_index())\n",
    "df_X = df_X.merge(train_carts, on='user_id')"
   ]
  },
  {
   "cell_type": "code",
   "execution_count": 14,
   "metadata": {},
   "outputs": [
    {
     "data": {
      "text/html": [
       "<div>\n",
       "<style scoped>\n",
       "    .dataframe tbody tr th:only-of-type {\n",
       "        vertical-align: middle;\n",
       "    }\n",
       "\n",
       "    .dataframe tbody tr th {\n",
       "        vertical-align: top;\n",
       "    }\n",
       "\n",
       "    .dataframe thead th {\n",
       "        text-align: right;\n",
       "    }\n",
       "</style>\n",
       "<table border=\"1\" class=\"dataframe\">\n",
       "  <thead>\n",
       "    <tr style=\"text-align: right;\">\n",
       "      <th></th>\n",
       "      <th>product_id</th>\n",
       "      <th>user_id</th>\n",
       "      <th>user_product_total_orders</th>\n",
       "      <th>latest_cart</th>\n",
       "      <th>in_cart</th>\n",
       "    </tr>\n",
       "  </thead>\n",
       "  <tbody>\n",
       "    <tr>\n",
       "      <th>0</th>\n",
       "      <td>1</td>\n",
       "      <td>21285</td>\n",
       "      <td>1</td>\n",
       "      <td>{21573, 35561, 37710, 11759, 12341, 13176, 32478}</td>\n",
       "      <td>0</td>\n",
       "    </tr>\n",
       "    <tr>\n",
       "      <th>1</th>\n",
       "      <td>3298</td>\n",
       "      <td>21285</td>\n",
       "      <td>1</td>\n",
       "      <td>{21573, 35561, 37710, 11759, 12341, 13176, 32478}</td>\n",
       "      <td>0</td>\n",
       "    </tr>\n",
       "    <tr>\n",
       "      <th>2</th>\n",
       "      <td>4920</td>\n",
       "      <td>21285</td>\n",
       "      <td>3</td>\n",
       "      <td>{21573, 35561, 37710, 11759, 12341, 13176, 32478}</td>\n",
       "      <td>0</td>\n",
       "    </tr>\n",
       "    <tr>\n",
       "      <th>3</th>\n",
       "      <td>6066</td>\n",
       "      <td>21285</td>\n",
       "      <td>2</td>\n",
       "      <td>{21573, 35561, 37710, 11759, 12341, 13176, 32478}</td>\n",
       "      <td>0</td>\n",
       "    </tr>\n",
       "    <tr>\n",
       "      <th>4</th>\n",
       "      <td>6184</td>\n",
       "      <td>21285</td>\n",
       "      <td>6</td>\n",
       "      <td>{21573, 35561, 37710, 11759, 12341, 13176, 32478}</td>\n",
       "      <td>0</td>\n",
       "    </tr>\n",
       "  </tbody>\n",
       "</table>\n",
       "</div>"
      ],
      "text/plain": [
       "   product_id  user_id  user_product_total_orders  \\\n",
       "0           1    21285                          1   \n",
       "1        3298    21285                          1   \n",
       "2        4920    21285                          3   \n",
       "3        6066    21285                          2   \n",
       "4        6184    21285                          6   \n",
       "\n",
       "                                         latest_cart  in_cart  \n",
       "0  {21573, 35561, 37710, 11759, 12341, 13176, 32478}        0  \n",
       "1  {21573, 35561, 37710, 11759, 12341, 13176, 32478}        0  \n",
       "2  {21573, 35561, 37710, 11759, 12341, 13176, 32478}        0  \n",
       "3  {21573, 35561, 37710, 11759, 12341, 13176, 32478}        0  \n",
       "4  {21573, 35561, 37710, 11759, 12341, 13176, 32478}        0  "
      ]
     },
     "execution_count": 14,
     "metadata": {},
     "output_type": "execute_result"
    }
   ],
   "source": [
    "df_X['in_cart'] = (df_X.apply(lambda row: row['product_id'] in row['latest_cart'], axis=1).astype(int))\n",
    "df_X.head()"
   ]
  },
  {
   "cell_type": "markdown",
   "metadata": {},
   "source": [
    "**View the distribution of targets**\n",
    "\n",
    "**This is an imbalanced classification. It will need to be accounted for when optimizing the F1 score**"
   ]
  },
  {
   "cell_type": "code",
   "execution_count": 15,
   "metadata": {},
   "outputs": [
    {
     "name": "stdout",
     "output_type": "stream",
     "text": [
      "0    0.901945\n",
      "1    0.098055\n",
      "Name: in_cart, dtype: float64\n"
     ]
    },
    {
     "data": {
      "image/png": "[encoded data removed]",
      "text/plain": [
       "<Figure size 432x288 with 1 Axes>"
      ]
     },
     "metadata": {
      "needs_background": "light"
     },
     "output_type": "display_data"
    }
   ],
   "source": [
    "target_pcts = df_X.in_cart.value_counts(normalize=True) \n",
    "print(target_pcts)\n",
    "\n",
    "#sns.barplot(x='index', y='in_cart', data=target_pcts.reset_index());"
   ]
  },
  {
   "cell_type": "markdown",
   "metadata": {},
   "source": [
    "**Create a pairplot function to view how adding features affects the model**"
   ]
  },
  {
   "cell_type": "code",
   "execution_count": 16,
   "metadata": {},
   "outputs": [
    {
     "name": "stderr",
     "output_type": "stream",
     "text": [
      "/home/ubuntu/anaconda3/lib/python3.7/site-packages/scipy/stats/stats.py:1713: FutureWarning: Using a non-tuple sequence for multidimensional indexing is deprecated; use `arr[tuple(seq)]` instead of `arr[seq]`. In the future this will be interpreted as an array index, `arr[np.array(seq)]`, which will result either in an error or a different result.\n",
      "  return np.add.reduce(sorted[indexer] * weights, axis=axis) / sumval\n",
      "/home/ubuntu/anaconda3/lib/python3.7/site-packages/statsmodels/nonparametric/kde.py:488: RuntimeWarning: invalid value encountered in true_divide\n",
      "  binned = fast_linbin(X, a, b, gridsize) / (delta * nobs)\n",
      "/home/ubuntu/anaconda3/lib/python3.7/site-packages/statsmodels/nonparametric/kdetools.py:34: RuntimeWarning: invalid value encountered in double_scalars\n",
      "  FAC1 = 2*(np.pi*bw/RANGE)**2\n",
      "/home/ubuntu/anaconda3/lib/python3.7/site-packages/numpy/core/fromnumeric.py:83: RuntimeWarning: invalid value encountered in reduce\n",
      "  return ufunc.reduce(obj, axis, dtype, out, **passkwargs)\n"
     ]
    },
    {
     "data": {
      "image/png": "[encoded data removed]",
      "text/plain": [
       "<Figure size 408.75x360 with 6 Axes>"
      ]
     },
     "metadata": {
      "needs_background": "light"
     },
     "output_type": "display_data"
    }
   ],
   "source": [
    "def plot_features(df, sample_size=500):\n",
    "    \n",
    "    sample = (df.drop(['product_id','user_id','latest_cart'],axis=1)\n",
    "                .sample(500, random_state=44)) \n",
    "    sns.pairplot(sample,hue='in_cart')\n",
    "\n",
    "#plot_features(df_X)"
   ]
  },
  {
   "cell_type": "markdown",
   "metadata": {},
   "source": [
    "**Manually split data to avoid overfitting from training and testing on users that appear in both sets**"
   ]
  },
  {
   "cell_type": "code",
   "execution_count": 17,
   "metadata": {},
   "outputs": [],
   "source": [
    "def get_user_split_data(df, test_size=.2, seed=42):\n",
    "\n",
    "    rs = np.random.RandomState(seed)\n",
    "    \n",
    "    total_users = df['user_id'].unique() \n",
    "    test_users = rs.choice(total_users, \n",
    "                           size=int(total_users.shape[0] * test_size), \n",
    "                           replace=False)\n",
    "\n",
    "    df_tr = df[~df['user_id'].isin(test_users)]\n",
    "    df_te = df[df['user_id'].isin(test_users)] \n",
    "\n",
    "    y_tr, y_te = df_tr['in_cart'], df_te['in_cart']\n",
    "    X_tr = df_tr.drop(['product_id','user_id','latest_cart','in_cart'],axis=1) \n",
    "    X_te = df_te.drop(['product_id','user_id','latest_cart','in_cart'],axis=1)\n",
    "\n",
    "    return X_tr, X_te, y_tr, y_te"
   ]
  },
  {
   "cell_type": "code",
   "execution_count": 18,
   "metadata": {},
   "outputs": [
    {
     "name": "stderr",
     "output_type": "stream",
     "text": [
      "/home/ubuntu/anaconda3/lib/python3.7/site-packages/sklearn/linear_model/logistic.py:432: FutureWarning: Default solver will be changed to 'lbfgs' in 0.22. Specify a solver to silence this warning.\n",
      "  FutureWarning)\n"
     ]
    },
    {
     "name": "stdout",
     "output_type": "stream",
     "text": [
      "F1 Score for BASELINE MODEL: 0.0821\n"
     ]
    }
   ],
   "source": [
    "X_tr, X_te, y_tr, y_te = get_user_split_data(df_X)\n",
    "\n",
    "lr = LogisticRegression()\n",
    "lr.fit(X_tr, y_tr)\n",
    "print('F1 Score for BASELINE MODEL: {0:.4f}'.format(f1_score(lr.predict(X_te), y_te)))"
   ]
  },
  {
   "cell_type": "markdown",
   "metadata": {},
   "source": [
    "# Improving the Baseline\n",
    "---\n",
    "### Split the features into categories:\n",
    "# Product Features | User Features | User-Product Features\n",
    "\n",
    "### Product Features:\n",
    "---\n",
    "- Popularity\n",
    "- Cart Position Statistics\n",
    "- Reorder Frequency\n",
    "- Days since ordered Statistics\n",
    "- One time purchase product\n",
    "- Department Categories\n",
    "- Aisle Categories"
   ]
  },
  {
   "cell_type": "markdown",
   "metadata": {},
   "source": [
    "### Popularity\n",
    "*Product Feature*\n",
    "\n",
    "**Count each products total orders over all the users**"
   ]
  },
  {
   "cell_type": "code",
   "execution_count": 19,
   "metadata": {},
   "outputs": [],
   "source": [
    "def popularity(df):\n",
    "    popularity = {'product_total_orders': df['order_id'].nunique()}\n",
    "    return pd.Series(popularity)\n",
    "\n",
    "df_popularity = (df_order_products_prior.groupby(['product_id']).apply(popularity))"
   ]
  },
  {
   "cell_type": "code",
   "execution_count": 20,
   "metadata": {},
   "outputs": [],
   "source": [
    "df_X = df_X.merge(df_popularity, on='product_id')\n",
    "del df_popularity"
   ]
  },
  {
   "cell_type": "code",
   "execution_count": 21,
   "metadata": {},
   "outputs": [
    {
     "name": "stderr",
     "output_type": "stream",
     "text": [
      "/home/ubuntu/anaconda3/lib/python3.7/site-packages/sklearn/linear_model/logistic.py:432: FutureWarning: Default solver will be changed to 'lbfgs' in 0.22. Specify a solver to silence this warning.\n",
      "  FutureWarning)\n"
     ]
    },
    {
     "data": {
      "text/plain": [
       "0.09112642385037267"
      ]
     },
     "execution_count": 21,
     "metadata": {},
     "output_type": "execute_result"
    }
   ],
   "source": [
    "X_tr, X_te, y_tr, y_te = get_user_split_data(df_X)\n",
    "\n",
    "lr = LogisticRegression()\n",
    "lr.fit(X_tr, y_tr)\n",
    "f1_score(lr.predict(X_te), y_te)"
   ]
  },
  {
   "cell_type": "markdown",
   "metadata": {},
   "source": [
    "### Cart Position Statistics\n",
    "*Product Feature*\n",
    "\n",
    "**Calculate statistical features for position added to cart for all users**\n"
   ]
  },
  {
   "cell_type": "code",
   "execution_count": 22,
   "metadata": {},
   "outputs": [],
   "source": [
    "def cart_statistics(df):\n",
    "    stats = {'product_cart_order_mean': df['add_to_cart_order'].mean(),\n",
    "             'product_cart_order_max': df['add_to_cart_order'].max(),\n",
    "             'product_cart_order_min': df['add_to_cart_order'].min(),\n",
    "             'product_cart_order_std': df['add_to_cart_order'].std(ddof=0)}\n",
    "    return pd.Series(stats)\n",
    "\n",
    "df_cart_stats = (df_order_products_prior.groupby(['product_id']).apply(cart_statistics))"
   ]
  },
  {
   "cell_type": "code",
   "execution_count": 23,
   "metadata": {},
   "outputs": [
    {
     "name": "stderr",
     "output_type": "stream",
     "text": [
      "/home/ubuntu/anaconda3/lib/python3.7/site-packages/sklearn/linear_model/logistic.py:432: FutureWarning: Default solver will be changed to 'lbfgs' in 0.22. Specify a solver to silence this warning.\n",
      "  FutureWarning)\n"
     ]
    },
    {
     "data": {
      "text/plain": [
       "0.09324533071197864"
      ]
     },
     "execution_count": 23,
     "metadata": {},
     "output_type": "execute_result"
    }
   ],
   "source": [
    "df_X = df_X.merge(df_cart_stats, on='product_id')\n",
    "del df_cart_stats\n",
    "\n",
    "X_tr, X_te, y_tr, y_te = get_user_split_data(df_X)\n",
    "\n",
    "lr = LogisticRegression()\n",
    "lr.fit(X_tr, y_tr)\n",
    "f1_score(lr.predict(X_te), y_te)"
   ]
  },
  {
   "cell_type": "markdown",
   "metadata": {},
   "source": [
    "### Frequency\n",
    "*Product Feature*\n",
    "\n",
    "**Calculate order frequency and statistics**"
   ]
  },
  {
   "cell_type": "code",
   "execution_count": 24,
   "metadata": {},
   "outputs": [],
   "source": [
    "def order_freq(df):\n",
    "    freq = {'product_order_freq': df['order_id'].count(),\n",
    "            'product_reorder_freq': df['reordered'].sum()}\n",
    "    return pd.Series(freq)\n",
    "\n",
    "df_order_freq = (df_order_products_prior.groupby(['product_id']).apply(order_freq))"
   ]
  },
  {
   "cell_type": "code",
   "execution_count": 25,
   "metadata": {},
   "outputs": [],
   "source": [
    "def reorder_prob(df):\n",
    "    prob = {'product_reorder_prob': df['product_reorder_freq'] / df['product_order_freq']}\n",
    "    return pd.Series(prob)\n",
    "\n",
    "df_order_prob = (df_order_freq.groupby(['product_id']).apply(reorder_prob))"
   ]
  },
  {
   "cell_type": "markdown",
   "metadata": {},
   "source": [
    "**Product order and reorder frequency dropped the F1 score to .085. These will not be included in the model**"
   ]
  },
  {
   "cell_type": "markdown",
   "metadata": {},
   "source": [
    "### Days Since Ordered Statistics\n",
    "*Product Feature*\n",
    "\n",
    "**Calculate statistics on days since ordered prior**\n"
   ]
  },
  {
   "cell_type": "code",
   "execution_count": 26,
   "metadata": {},
   "outputs": [],
   "source": [
    "def days_since_stats(df):\n",
    "    stats = {'product_days_since_mean': df['days_since_prior_order'].mean(),\n",
    "             'product_days_since_max': df['days_since_prior_order'].max(),\n",
    "             'product_days_since_min': df['days_since_prior_order'].min(),}\n",
    "    return pd.Series(stats)\n",
    "\n",
    "df_days_since_stats = (df_order_products_prior.groupby(['product_id']).apply(days_since_stats))"
   ]
  },
  {
   "cell_type": "code",
   "execution_count": 27,
   "metadata": {},
   "outputs": [],
   "source": [
    "df_days_since_stats = df_days_since_stats.fillna(df_days_since_stats.mean())"
   ]
  },
  {
   "cell_type": "code",
   "execution_count": 28,
   "metadata": {},
   "outputs": [
    {
     "name": "stderr",
     "output_type": "stream",
     "text": [
      "/home/ubuntu/anaconda3/lib/python3.7/site-packages/sklearn/linear_model/logistic.py:432: FutureWarning: Default solver will be changed to 'lbfgs' in 0.22. Specify a solver to silence this warning.\n",
      "  FutureWarning)\n"
     ]
    },
    {
     "data": {
      "text/plain": [
       "0.09474276075344391"
      ]
     },
     "execution_count": 28,
     "metadata": {},
     "output_type": "execute_result"
    }
   ],
   "source": [
    "df_X = df_X.merge(df_days_since_stats, on='product_id')\n",
    "del df_days_since_stats\n",
    "X_tr, X_te, y_tr, y_te = get_user_split_data(df_X)\n",
    "\n",
    "lr = LogisticRegression()\n",
    "lr.fit(X_tr, y_tr)\n",
    "f1_score(lr.predict(X_te), y_te)"
   ]
  },
  {
   "cell_type": "markdown",
   "metadata": {},
   "source": [
    "### One Time Orders\n",
    "*Product Feature*\n",
    "\n",
    "**Count number of times a product has only been ordered once by a user**"
   ]
  },
  {
   "cell_type": "code",
   "execution_count": 29,
   "metadata": {},
   "outputs": [],
   "source": [
    "# Group to count how many times a user ordered a product\n",
    "df_one_time_product = (df_order_products_prior.groupby(['product_id', 'user_id'])['order_id'].count()\n",
    "                                             .reset_index()\n",
    "                                             .rename(columns={'order_id': 'counts'}))\n",
    "# Group again using only products ordered once\n",
    "df_one_time_product = (df_one_time_product[df_one_time_product.counts==1].groupby(['product_id'])['counts'].count()\n",
    "                                                  .reset_index()\n",
    "                                                  .rename(columns={'counts':'product_times_ordered_once'}))"
   ]
  },
  {
   "cell_type": "markdown",
   "metadata": {},
   "source": [
    "**One time orders dropped F1 to .093. They will not be included.**"
   ]
  },
  {
   "cell_type": "markdown",
   "metadata": {},
   "source": [
    "### User Features:\n",
    "---\n",
    "- Total Orders\n",
    "- Average Cart Size\n",
    "- Amount of Unique Products\n",
    "- Average number of days between orders\n",
    "- Average Day of Week ordered\n",
    "- Total Departments ordered from\n",
    "- Total Aisles ordered from\n",
    "- Order Tenure\n",
    "- Size of previous order\n"
   ]
  },
  {
   "cell_type": "code",
   "execution_count": 30,
   "metadata": {},
   "outputs": [
    {
     "data": {
      "text/html": [
       "<div>\n",
       "<style scoped>\n",
       "    .dataframe tbody tr th:only-of-type {\n",
       "        vertical-align: middle;\n",
       "    }\n",
       "\n",
       "    .dataframe tbody tr th {\n",
       "        vertical-align: top;\n",
       "    }\n",
       "\n",
       "    .dataframe thead th {\n",
       "        text-align: right;\n",
       "    }\n",
       "</style>\n",
       "<table border=\"1\" class=\"dataframe\">\n",
       "  <thead>\n",
       "    <tr style=\"text-align: right;\">\n",
       "      <th></th>\n",
       "      <th>order_id</th>\n",
       "      <th>product_id</th>\n",
       "      <th>add_to_cart_order</th>\n",
       "      <th>reordered</th>\n",
       "      <th>user_id</th>\n",
       "      <th>order_number</th>\n",
       "      <th>order_dow</th>\n",
       "      <th>order_hour_of_day</th>\n",
       "      <th>days_since_prior_order</th>\n",
       "    </tr>\n",
       "  </thead>\n",
       "  <tbody>\n",
       "    <tr>\n",
       "      <th>0</th>\n",
       "      <td>12</td>\n",
       "      <td>30597</td>\n",
       "      <td>1</td>\n",
       "      <td>1</td>\n",
       "      <td>152610</td>\n",
       "      <td>22</td>\n",
       "      <td>6</td>\n",
       "      <td>8</td>\n",
       "      <td>10.0</td>\n",
       "    </tr>\n",
       "    <tr>\n",
       "      <th>1</th>\n",
       "      <td>12</td>\n",
       "      <td>15221</td>\n",
       "      <td>2</td>\n",
       "      <td>1</td>\n",
       "      <td>152610</td>\n",
       "      <td>22</td>\n",
       "      <td>6</td>\n",
       "      <td>8</td>\n",
       "      <td>10.0</td>\n",
       "    </tr>\n",
       "    <tr>\n",
       "      <th>2</th>\n",
       "      <td>12</td>\n",
       "      <td>43772</td>\n",
       "      <td>3</td>\n",
       "      <td>1</td>\n",
       "      <td>152610</td>\n",
       "      <td>22</td>\n",
       "      <td>6</td>\n",
       "      <td>8</td>\n",
       "      <td>10.0</td>\n",
       "    </tr>\n",
       "    <tr>\n",
       "      <th>3</th>\n",
       "      <td>12</td>\n",
       "      <td>37886</td>\n",
       "      <td>4</td>\n",
       "      <td>1</td>\n",
       "      <td>152610</td>\n",
       "      <td>22</td>\n",
       "      <td>6</td>\n",
       "      <td>8</td>\n",
       "      <td>10.0</td>\n",
       "    </tr>\n",
       "    <tr>\n",
       "      <th>4</th>\n",
       "      <td>12</td>\n",
       "      <td>37215</td>\n",
       "      <td>5</td>\n",
       "      <td>0</td>\n",
       "      <td>152610</td>\n",
       "      <td>22</td>\n",
       "      <td>6</td>\n",
       "      <td>8</td>\n",
       "      <td>10.0</td>\n",
       "    </tr>\n",
       "  </tbody>\n",
       "</table>\n",
       "</div>"
      ],
      "text/plain": [
       "   order_id  product_id  add_to_cart_order  reordered  user_id  order_number  \\\n",
       "0        12       30597                  1          1   152610            22   \n",
       "1        12       15221                  2          1   152610            22   \n",
       "2        12       43772                  3          1   152610            22   \n",
       "3        12       37886                  4          1   152610            22   \n",
       "4        12       37215                  5          0   152610            22   \n",
       "\n",
       "   order_dow  order_hour_of_day  days_since_prior_order  \n",
       "0          6                  8                    10.0  \n",
       "1          6                  8                    10.0  \n",
       "2          6                  8                    10.0  \n",
       "3          6                  8                    10.0  \n",
       "4          6                  8                    10.0  "
      ]
     },
     "execution_count": 30,
     "metadata": {},
     "output_type": "execute_result"
    }
   ],
   "source": [
    "df_order_products_prior.head()"
   ]
  },
  {
   "cell_type": "code",
   "execution_count": 31,
   "metadata": {},
   "outputs": [],
   "source": [
    "def user_stats(df):\n",
    "    stats = {'user_total_orders': df['order_id'].nunique(),\n",
    "             'user_avg_cartsize': df['order_id'].shape[0]/df['order_id'].nunique(),\n",
    "             'user_total_products': df['product_id'].nunique(),\n",
    "             'user_avg_days_since_order': df['days_since_prior_order'].mean(),\n",
    "             'user_avg_day_of_week_order': df['order_dow'].mean(),\n",
    "             'user_avg_hour_of_day': df['order_hour_of_day'].mean()}\n",
    "    return pd.Series(stats)\n",
    "\n",
    "df_totals_means = (df_order_products_prior.groupby(['user_id']).apply(user_stats))"
   ]
  },
  {
   "cell_type": "code",
   "execution_count": 32,
   "metadata": {},
   "outputs": [
    {
     "name": "stderr",
     "output_type": "stream",
     "text": [
      "/home/ubuntu/anaconda3/lib/python3.7/site-packages/sklearn/linear_model/logistic.py:432: FutureWarning: Default solver will be changed to 'lbfgs' in 0.22. Specify a solver to silence this warning.\n",
      "  FutureWarning)\n"
     ]
    },
    {
     "data": {
      "text/plain": [
       "0.12541345093715547"
      ]
     },
     "execution_count": 32,
     "metadata": {},
     "output_type": "execute_result"
    }
   ],
   "source": [
    "df_X = df_X.merge(df_totals_means, on='user_id')\n",
    "del df_totals_means\n",
    "X_tr, X_te, y_tr, y_te = get_user_split_data(df_X)\n",
    "\n",
    "lr = LogisticRegression()\n",
    "lr.fit(X_tr, y_tr)\n",
    "f1_score(lr.predict(X_te), y_te)"
   ]
  },
  {
   "cell_type": "code",
   "execution_count": null,
   "metadata": {},
   "outputs": [],
   "source": []
  },
  {
   "cell_type": "markdown",
   "metadata": {},
   "source": [
    "### Number of Departments and Aisles"
   ]
  },
  {
   "cell_type": "code",
   "execution_count": 33,
   "metadata": {},
   "outputs": [],
   "source": [
    "df_prod = df_products.merge(df_aisles, on='aisle_id')\n",
    "df_prod = df_prod.merge(df_departments, on='department_id')\n",
    "df_prod = df_prod.drop(['product_name', 'aisle_id', 'department_id'], axis=1)\n",
    "df_opp = df_order_products_prior.merge(df_prod, on='product_id', how='left')"
   ]
  },
  {
   "cell_type": "code",
   "execution_count": 34,
   "metadata": {},
   "outputs": [],
   "source": [
    "def totals(df):\n",
    "    tots = {'user_total_department': df['department'].nunique(),\n",
    "            'user_total_aisle': df['aisle'].nunique()}\n",
    "    return pd.Series(tots)\n",
    "\n",
    "df_totals_aisle_dep = (df_opp.groupby(['user_id']).apply(totals))"
   ]
  },
  {
   "cell_type": "code",
   "execution_count": 35,
   "metadata": {},
   "outputs": [
    {
     "name": "stderr",
     "output_type": "stream",
     "text": [
      "/home/ubuntu/anaconda3/lib/python3.7/site-packages/sklearn/linear_model/logistic.py:432: FutureWarning: Default solver will be changed to 'lbfgs' in 0.22. Specify a solver to silence this warning.\n",
      "  FutureWarning)\n"
     ]
    },
    {
     "data": {
      "text/plain": [
       "0.1268790511653565"
      ]
     },
     "execution_count": 35,
     "metadata": {},
     "output_type": "execute_result"
    }
   ],
   "source": [
    "df_X = df_X.merge(df_totals_aisle_dep, on='user_id')\n",
    "del df_totals_aisle_dep\n",
    "X_tr, X_te, y_tr, y_te = get_user_split_data(df_X)\n",
    "\n",
    "lr = LogisticRegression()\n",
    "lr.fit(X_tr, y_tr)\n",
    "f1_score(lr.predict(X_te), y_te)"
   ]
  },
  {
   "cell_type": "markdown",
   "metadata": {},
   "source": [
    "### Days since Last order\n",
    "*User Feature*\n",
    "\n",
    "**Amount of days user has been active**"
   ]
  },
  {
   "cell_type": "code",
   "execution_count": 36,
   "metadata": {},
   "outputs": [],
   "source": [
    "#Use users table to get amount of days since the first order\n",
    "df_orders['days_since_first'] = df_orders.groupby(['user_id'])['days_since_prior_order'].cumsum()\\\n",
    "                                          .fillna(0)"
   ]
  },
  {
   "cell_type": "code",
   "execution_count": 37,
   "metadata": {},
   "outputs": [],
   "source": [
    "# Max value will be the days since the first order\n",
    "def days_active(df):\n",
    "    max_days = {'days_active': df['days_since_first'].max()}\n",
    "    return pd.Series(max_days)\n",
    "df_active = df_orders.groupby('user_id').apply(days_active)"
   ]
  },
  {
   "cell_type": "code",
   "execution_count": 38,
   "metadata": {},
   "outputs": [],
   "source": [
    "df_orders = df_orders.merge(df_active, on='user_id', how='left')"
   ]
  },
  {
   "cell_type": "code",
   "execution_count": 39,
   "metadata": {},
   "outputs": [],
   "source": [
    "# Days since specific orders\n",
    "df_orders['days_to_last_order'] = df_orders['days_active'] - df_orders['days_since_first']"
   ]
  },
  {
   "cell_type": "code",
   "execution_count": 40,
   "metadata": {},
   "outputs": [],
   "source": [
    "df_days_since = df_orders[['order_id', 'user_id', 'order_number', 'days_to_last_order']]"
   ]
  },
  {
   "cell_type": "code",
   "execution_count": 41,
   "metadata": {},
   "outputs": [],
   "source": [
    "# Get orders for df_X\n",
    "df_dow = df_order_products_prior[['product_id', 'user_id','order_number', 'order_dow', 'order_hour_of_day']]"
   ]
  },
  {
   "cell_type": "code",
   "execution_count": 42,
   "metadata": {},
   "outputs": [],
   "source": [
    "# Bring df_X to the order level\n",
    "df_X = df_X.merge(df_dow, on=['product_id', 'user_id'])"
   ]
  },
  {
   "cell_type": "code",
   "execution_count": 43,
   "metadata": {},
   "outputs": [],
   "source": [
    "df_X = df_X.merge(df_days_since, on=['user_id', 'order_number'], how='left')"
   ]
  },
  {
   "cell_type": "code",
   "execution_count": 44,
   "metadata": {},
   "outputs": [],
   "source": [
    "df_last_order = df_X.groupby(['user_id', 'product_id'])['order_number'].max().reset_index()"
   ]
  },
  {
   "cell_type": "code",
   "execution_count": 45,
   "metadata": {},
   "outputs": [],
   "source": [
    "df_X = df_last_order.merge(df_X, on=['user_id','product_id','order_number'], how='left')"
   ]
  },
  {
   "cell_type": "code",
   "execution_count": 46,
   "metadata": {},
   "outputs": [
    {
     "data": {
      "text/plain": [
       "Index(['user_id', 'product_id', 'order_number', 'user_product_total_orders',\n",
       "       'latest_cart', 'in_cart', 'product_total_orders',\n",
       "       'product_cart_order_mean', 'product_cart_order_max',\n",
       "       'product_cart_order_min', 'product_cart_order_std',\n",
       "       'product_days_since_mean', 'product_days_since_max',\n",
       "       'product_days_since_min', 'user_total_orders', 'user_avg_cartsize',\n",
       "       'user_total_products', 'user_avg_days_since_order',\n",
       "       'user_avg_day_of_week_order', 'user_avg_hour_of_day',\n",
       "       'user_total_department', 'user_total_aisle', 'order_dow',\n",
       "       'order_hour_of_day', 'order_id', 'days_to_last_order'],\n",
       "      dtype='object')"
      ]
     },
     "execution_count": 46,
     "metadata": {},
     "output_type": "execute_result"
    }
   ],
   "source": [
    "df_X.columns"
   ]
  },
  {
   "cell_type": "code",
   "execution_count": 47,
   "metadata": {},
   "outputs": [],
   "source": [
    "df_X = df_X.drop(['order_id', 'order_number', 'order_dow', 'order_hour_of_day'], axis=1)"
   ]
  },
  {
   "cell_type": "code",
   "execution_count": 48,
   "metadata": {},
   "outputs": [],
   "source": [
    "# Adding a squared term to the model makes a better fit \n",
    "df_X['days_to_last_squared'] = df_X.days_to_last_order**2"
   ]
  },
  {
   "cell_type": "code",
   "execution_count": 49,
   "metadata": {},
   "outputs": [
    {
     "name": "stderr",
     "output_type": "stream",
     "text": [
      "/home/ubuntu/anaconda3/lib/python3.7/site-packages/sklearn/linear_model/logistic.py:432: FutureWarning: Default solver will be changed to 'lbfgs' in 0.22. Specify a solver to silence this warning.\n",
      "  FutureWarning)\n"
     ]
    },
    {
     "data": {
      "text/plain": [
       "0.1340273259596617"
      ]
     },
     "execution_count": 49,
     "metadata": {},
     "output_type": "execute_result"
    }
   ],
   "source": [
    "X_tr, X_te, y_tr, y_te = get_user_split_data(df_X)\n",
    "\n",
    "lr = LogisticRegression()\n",
    "lr.fit(X_tr, y_tr)\n",
    "f1_score(lr.predict(X_te), y_te)"
   ]
  },
  {
   "cell_type": "markdown",
   "metadata": {},
   "source": [
    "### Previous Order Size\n",
    "*User Feature*\n",
    "\n",
    "**Get the size of the previous order that the user made**"
   ]
  },
  {
   "cell_type": "code",
   "execution_count": 50,
   "metadata": {},
   "outputs": [],
   "source": [
    "# First get the size of each order\n",
    "df_order_size = (df_order_products_prior.groupby(['order_id'], as_index=False)['add_to_cart_order']\n",
    "                                        .max()\n",
    "                                        .rename(columns={'add_to_cart_order':'order_size'}))\n"
   ]
  },
  {
   "cell_type": "code",
   "execution_count": 51,
   "metadata": {},
   "outputs": [],
   "source": [
    "# Get the first order \n",
    "df_previous_orders = (df_order_products_prior.sort_values(['user_id', 'order_number'], ascending=False)\n",
    "                                             .merge(df_order_size, on='order_id', how='left')\n",
    "                                             .groupby(['order_number'], as_index=False).first())\n",
    "\n",
    "df_previous_orders = df_previous_orders[['order_number', 'order_id', 'user_id', 'order_size']]\n"
   ]
  },
  {
   "cell_type": "code",
   "execution_count": 52,
   "metadata": {},
   "outputs": [],
   "source": [
    "# Shift each order size down for each user group\n",
    "prev_orders = (df_previous_orders.groupby(['user_id'],as_index=False)['order_size'].transform(lambda x:x.shift()).fillna(0)\n",
    "                                 .rename(columns={'order_size':'order_prev_size'}))\n",
    " "
   ]
  },
  {
   "cell_type": "code",
   "execution_count": 53,
   "metadata": {},
   "outputs": [],
   "source": [
    "df_previous_orders = (df_previous_orders.merge(prev_orders, left_index=True, right_index=True)\n",
    "                                        .drop(['order_number', 'order_size'], axis=1))"
   ]
  },
  {
   "cell_type": "markdown",
   "metadata": {},
   "source": [
    "### User-Product Features:\n",
    "---\n",
    "- Average add to cart order\n",
    "- Order Frequency\n",
    "- Order Day of Week difference from Average\n",
    "- Order Hour of Day difference from Average\n",
    "- Consecutive orders"
   ]
  },
  {
   "cell_type": "markdown",
   "metadata": {},
   "source": [
    "### Difference from Average\n",
    "*User-Product Feature*\n",
    "\n",
    "**Difference between the current order DOW/HOD and the overall average**"
   ]
  },
  {
   "cell_type": "code",
   "execution_count": 54,
   "metadata": {},
   "outputs": [],
   "source": [
    "df_X['user_product_DOW_delta'] = df_X['user_avg_day_of_week_order'] - df_X['order_dow']\n",
    "df_X['user_product_HOD_delta'] = df_X['user_avg_hour_of_day'] - df_X['order_hour_of_day']\n"
   ]
  },
  {
   "cell_type": "markdown",
   "metadata": {},
   "source": [
    "**Difference from average dropped F1 score**"
   ]
  },
  {
   "cell_type": "markdown",
   "metadata": {},
   "source": [
    "**Return df_X to single order level by getting the latest order**"
   ]
  },
  {
   "cell_type": "code",
   "execution_count": 55,
   "metadata": {},
   "outputs": [],
   "source": [
    "def last_order(df):\n",
    "    max_days = {'days_active': df['order_number'].max()}\n",
    "    return pd.Series(max_days)\n",
    "\n",
    "df_last = df_X.groupby(['user_id', 'product_id'])['order_number'].max().reset_index()\n",
    "\n",
    "df_X = df_last.merge(df_X, on=['user_id', 'product_id', 'order_number'], how='left')"
   ]
  },
  {
   "cell_type": "markdown",
   "metadata": {},
   "source": [
    "**Latest order and Delta dropped F1 score**"
   ]
  },
  {
   "cell_type": "markdown",
   "metadata": {},
   "source": [
    "### Average Add to Card Order\n",
    "*User-Product Feature*\n",
    "\n",
    "**Average position that a user added a product to their cart**"
   ]
  },
  {
   "cell_type": "code",
   "execution_count": 56,
   "metadata": {},
   "outputs": [],
   "source": [
    "def add_order(df):\n",
    "    order = {'user_product_avg_add_to_cart_order': df['add_to_cart_order'].mean()}\n",
    "    return pd.Series(order)\n",
    "    \n",
    "\n",
    "df_user_prod_avg_add_to_cart = (df_order_products_prior.groupby(['product_id','user_id']).apply(add_order)\n",
    "                                                       .reset_index())\n"
   ]
  },
  {
   "cell_type": "code",
   "execution_count": 57,
   "metadata": {},
   "outputs": [],
   "source": [
    "df_X = df_X.merge(df_user_prod_avg_add_to_cart,on=['user_id','product_id'])\n",
    "del df_user_prod_avg_add_to_cart"
   ]
  },
  {
   "cell_type": "markdown",
   "metadata": {},
   "source": [
    "### Order Frequency\n",
    "*User-Product Feature*\n",
    "\n",
    "**Ratio of total times a user ordered a product to the total amount of orders they had**"
   ]
  },
  {
   "cell_type": "code",
   "execution_count": 58,
   "metadata": {},
   "outputs": [],
   "source": [
    "df_X['user_product_order_freq'] = df_X['user_product_total_orders'] / df_X['user_total_orders'] "
   ]
  },
  {
   "cell_type": "code",
   "execution_count": 59,
   "metadata": {},
   "outputs": [
    {
     "name": "stderr",
     "output_type": "stream",
     "text": [
      "/home/ubuntu/anaconda3/lib/python3.7/site-packages/sklearn/linear_model/logistic.py:432: FutureWarning: Default solver will be changed to 'lbfgs' in 0.22. Specify a solver to silence this warning.\n",
      "  FutureWarning)\n"
     ]
    },
    {
     "data": {
      "text/plain": [
       "0.11644290841419645"
      ]
     },
     "execution_count": 59,
     "metadata": {},
     "output_type": "execute_result"
    }
   ],
   "source": [
    "X_tr, X_te, y_tr, y_te = get_user_split_data(df_X)\n",
    "\n",
    "lr = LogisticRegression()\n",
    "lr.fit(X_tr, y_tr)\n",
    "f1_score(lr.predict(X_te), y_te)"
   ]
  },
  {
   "cell_type": "markdown",
   "metadata": {},
   "source": [
    "### Consecutive Orders\n",
    "*User-Product Feature*\n",
    "\n",
    "**Number of times a product has been ordered consecutively by a user**"
   ]
  },
  {
   "cell_type": "code",
   "execution_count": 60,
   "metadata": {},
   "outputs": [],
   "source": [
    "def apply_parallel(df_groups, _func):\n",
    "    nthreads = multiprocessing.cpu_count() >> 1\n",
    "    print(\"nthreads: {}\".format(nthreads))\n",
    "    res = Parallel(n_jobs=nthreads)(delayed(_func)(grp.copy()) for _, grp in df_groups)\n",
    "    return pd.concat(res)\n",
    "\n",
    "\n",
    "def add_order_streak(df):\n",
    "    tmp = df.copy()\n",
    "    tmp.user_id = 1\n",
    "\n",
    "    UP = tmp.pivot(index=\"product_id\", columns='order_number').fillna(-1)\n",
    "    UP.columns = UP.columns.droplevel(0)\n",
    "\n",
    "    x = np.abs(UP.diff(axis=1).fillna(2)).values[:, ::-1]\n",
    "    df.set_index(\"product_id\", inplace=True)\n",
    "    df['order_streak'] = np.multiply(np.argmax(x, axis=1) + 1, UP.iloc[:, -1])\n",
    "    df.reset_index(drop=False, inplace=True)\n",
    "    return df"
   ]
  },
  {
   "cell_type": "code",
   "execution_count": 61,
   "metadata": {},
   "outputs": [],
   "source": [
    "prior = df_order_products_prior.groupby(['user_id'])"
   ]
  },
  {
   "cell_type": "code",
   "execution_count": 62,
   "metadata": {},
   "outputs": [
    {
     "name": "stdout",
     "output_type": "stream",
     "text": [
      "nthreads: 4\n"
     ]
    }
   ],
   "source": [
    "streak = apply_parallel(prior, add_order_streak)"
   ]
  },
  {
   "cell_type": "code",
   "execution_count": 63,
   "metadata": {},
   "outputs": [],
   "source": [
    "streak = streak[['user_id', 'product_id', 'order_id', 'order_streak']]"
   ]
  },
  {
   "cell_type": "code",
   "execution_count": 64,
   "metadata": {},
   "outputs": [],
   "source": [
    "df_x = df_X.merge(streak, on=['user_id', 'product_id'], how='left')"
   ]
  },
  {
   "cell_type": "code",
   "execution_count": 65,
   "metadata": {},
   "outputs": [
    {
     "name": "stderr",
     "output_type": "stream",
     "text": [
      "/home/ubuntu/anaconda3/lib/python3.7/site-packages/sklearn/linear_model/logistic.py:432: FutureWarning: Default solver will be changed to 'lbfgs' in 0.22. Specify a solver to silence this warning.\n",
      "  FutureWarning)\n"
     ]
    },
    {
     "data": {
      "text/plain": [
       "0.2609666403992645"
      ]
     },
     "execution_count": 65,
     "metadata": {},
     "output_type": "execute_result"
    }
   ],
   "source": [
    "X_tr, X_te, y_tr, y_te = get_user_split_data(df_x)\n",
    "\n",
    "lr = LogisticRegression()\n",
    "lr.fit(X_tr, y_tr)\n",
    "f1_score(lr.predict(X_te), y_te)"
   ]
  },
  {
   "cell_type": "markdown",
   "metadata": {},
   "source": [
    "### Export Features"
   ]
  },
  {
   "cell_type": "code",
   "execution_count": 67,
   "metadata": {},
   "outputs": [],
   "source": [
    "df_X.to_csv('instacart_df_X_features2.csv', index=False)"
   ]
  },
  {
   "cell_type": "code",
   "execution_count": 69,
   "metadata": {},
   "outputs": [],
   "source": [
    "# Current df_x f1: .215\n",
    "# with streak: .226997\n",
    "# With square term days since last order and streak: .2609 "
   ]
  },
  {
   "cell_type": "code",
   "execution_count": null,
   "metadata": {},
   "outputs": [],
   "source": []
  },
  {
   "cell_type": "code",
   "execution_count": null,
   "metadata": {},
   "outputs": [],
   "source": []
  },
  {
   "cell_type": "code",
   "execution_count": null,
   "metadata": {},
   "outputs": [],
   "source": []
  },
  {
   "cell_type": "code",
   "execution_count": null,
   "metadata": {},
   "outputs": [],
   "source": []
  },
  {
   "cell_type": "code",
   "execution_count": null,
   "metadata": {},
   "outputs": [],
   "source": []
  },
  {
   "cell_type": "code",
   "execution_count": null,
   "metadata": {},
   "outputs": [],
   "source": []
  }
 ],
 "metadata": {
  "kernelspec": {
   "display_name": "Python 3",
   "language": "python",
   "name": "python3"
  },
  "language_info": {
   "codemirror_mode": {
    "name": "ipython",
    "version": 3
   },
   "file_extension": ".py",
   "mimetype": "text/x-python",
   "name": "python",
   "nbconvert_exporter": "python",
   "pygments_lexer": "ipython3",
   "version": "3.6.6"
  }
 },
 "nbformat": 4,
 "nbformat_minor": 2
}
